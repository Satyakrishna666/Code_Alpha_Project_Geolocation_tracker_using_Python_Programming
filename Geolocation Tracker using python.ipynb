{
 "cells": [
  {
   "cell_type": "code",
   "execution_count": 1,
   "id": "0a231286",
   "metadata": {},
   "outputs": [
    {
     "name": "stdout",
     "output_type": "stream",
     "text": [
      "Requirement already satisfied: folium in c:\\users\\satya\\anaconda3\\lib\\site-packages (0.19.2)\n",
      "Requirement already satisfied: xyzservices in c:\\users\\satya\\anaconda3\\lib\\site-packages (from folium) (2024.9.0)\n",
      "Requirement already satisfied: requests in c:\\users\\satya\\anaconda3\\lib\\site-packages (from folium) (2.27.1)\n",
      "Requirement already satisfied: branca>=0.6.0 in c:\\users\\satya\\anaconda3\\lib\\site-packages (from folium) (0.8.1)\n",
      "Requirement already satisfied: numpy in c:\\users\\satya\\anaconda3\\lib\\site-packages (from folium) (1.23.5)\n",
      "Requirement already satisfied: jinja2>=2.9 in c:\\users\\satya\\anaconda3\\lib\\site-packages (from folium) (3.1.5)\n",
      "Requirement already satisfied: MarkupSafe>=2.0 in c:\\users\\satya\\anaconda3\\lib\\site-packages (from jinja2>=2.9->folium) (2.0.1)\n",
      "Requirement already satisfied: idna<4,>=2.5 in c:\\users\\satya\\anaconda3\\lib\\site-packages (from requests->folium) (3.3)\n",
      "Requirement already satisfied: certifi>=2017.4.17 in c:\\users\\satya\\anaconda3\\lib\\site-packages (from requests->folium) (2021.10.8)\n",
      "Requirement already satisfied: charset-normalizer~=2.0.0 in c:\\users\\satya\\anaconda3\\lib\\site-packages (from requests->folium) (2.0.4)\n",
      "Requirement already satisfied: urllib3<1.27,>=1.21.1 in c:\\users\\satya\\anaconda3\\lib\\site-packages (from requests->folium) (1.26.9)\n"
     ]
    }
   ],
   "source": [
    "!pip install folium"
   ]
  },
  {
   "cell_type": "code",
   "execution_count": 2,
   "id": "7742143b",
   "metadata": {},
   "outputs": [],
   "source": [
    "import requests\n",
    "import folium"
   ]
  },
  {
   "cell_type": "code",
   "execution_count": 3,
   "id": "24aa986e",
   "metadata": {},
   "outputs": [],
   "source": [
    "def get_geolocation(ip_address=\"\"):\n",
    "    \"\"\"\n",
    "    Fetch geolocation data for the given IP address using an API.\n",
    "    If no IP address is provided, it fetches the location of the current user.\n",
    "    \"\"\"\n",
    "    try:\n",
    "        # Using the ip-api service for geolocation\n",
    "        response = requests.get(f\"http://ip-api.com/json/{ip_address}\")\n",
    "        data = response.json()\n",
    "\n",
    "        if data[\"status\"] == \"success\":\n",
    "            return {\n",
    "                \"ip\": data[\"query\"],\n",
    "                \"country\": data[\"country\"],\n",
    "                \"region\": data[\"regionName\"],\n",
    "                \"city\": data[\"city\"],\n",
    "                \"lat\": data[\"lat\"],\n",
    "                \"lon\": data[\"lon\"],\n",
    "                \"isp\": data[\"isp\"],\n",
    "            }\n",
    "        else:\n",
    "            print(\"Error: Unable to fetch geolocation data.\")\n",
    "            return None\n",
    "    except Exception as e:\n",
    "        print(f\"Exception occurred: {e}\")\n",
    "        return None\n",
    "\n"
   ]
  },
  {
   "cell_type": "code",
   "execution_count": 4,
   "id": "0657df67",
   "metadata": {},
   "outputs": [
    {
     "name": "stdout",
     "output_type": "stream",
     "text": [
      "Fetching geolocation data...\n",
      "Geolocation Data:\n",
      "Ip: 152.59.239.77\n",
      "Country: India\n",
      "Region: Telangana\n",
      "City: Hyderabad\n",
      "Lat: 17.3724\n",
      "Lon: 78.4378\n",
      "Isp: RELIANCEJIO\n",
      "Map has been saved as 'geolocation_map.html'. Open this file in a browser to view the map.\n"
     ]
    }
   ],
   "source": [
    "def display_map(lat, lon, location_name=\"Location\"):\n",
    "    \"\"\"\n",
    "    Display a map centered at the given latitude and longitude.\n",
    "    \"\"\"\n",
    "    try:\n",
    "        # Create a map centered on the given latitude and longitude\n",
    "        user_map = folium.Map(location=[lat, lon], zoom_start=12)\n",
    "\n",
    "        # Add a marker for the location\n",
    "        folium.Marker([lat, lon], popup=location_name).add_to(user_map)\n",
    "\n",
    "        # Save the map as an HTML file\n",
    "        user_map.save(\"geolocation_map.html\")\n",
    "        print(\"Map has been saved as 'geolocation_map.html'. Open this file in a browser to view the map.\")\n",
    "    except Exception as e:\n",
    "        print(f\"Exception occurred while creating the map: {e}\")\n",
    "\n",
    "if __name__ == \"__main__\":\n",
    "    # Fetch geolocation for the user's public IP address\n",
    "    print(\"Fetching geolocation data...\")\n",
    "    geo_data = get_geolocation()\n",
    "\n",
    "    if geo_data:\n",
    "        print(\"Geolocation Data:\")\n",
    "        for key, value in geo_data.items():\n",
    "            print(f\"{key.capitalize()}: {value}\")\n",
    "\n",
    "        # Display the location on a map\n",
    "        display_map(geo_data[\"lat\"], geo_data[\"lon\"], geo_data[\"city\"])\n",
    "    else:\n",
    "        print(\"Failed to fetch geolocation data.\")"
   ]
  },
  {
   "cell_type": "code",
   "execution_count": null,
   "id": "03298b59",
   "metadata": {},
   "outputs": [],
   "source": []
  }
 ],
 "metadata": {
  "kernelspec": {
   "display_name": "Python 3 (ipykernel)",
   "language": "python",
   "name": "python3"
  },
  "language_info": {
   "codemirror_mode": {
    "name": "ipython",
    "version": 3
   },
   "file_extension": ".py",
   "mimetype": "text/x-python",
   "name": "python",
   "nbconvert_exporter": "python",
   "pygments_lexer": "ipython3",
   "version": "3.9.12"
  }
 },
 "nbformat": 4,
 "nbformat_minor": 5
}
